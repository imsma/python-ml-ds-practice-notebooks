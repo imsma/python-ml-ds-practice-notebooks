{
 "cells": [
  {
   "cell_type": "code",
   "execution_count": 1,
   "metadata": {},
   "outputs": [],
   "source": [
    "import numpy as np"
   ]
  },
  {
   "cell_type": "markdown",
   "metadata": {},
   "source": [
    "Help on built-in function rand:\n",
    "\n",
    "rand(...) method of numpy.random.mtrand.RandomState instance\n",
    "    rand(d0, d1, ..., dn)\n",
    "    \n",
    "    Random values in a given shape.\n",
    "    \n",
    "    .. note::\n",
    "        This is a convenience function for users porting code from Matlab,\n",
    "        and wraps `random_sample`. That function takes a\n",
    "        tuple to specify the size of the output, which is consistent with\n",
    "        other NumPy functions like `numpy.zeros` and `numpy.ones`.\n",
    "    \n",
    "    Create an array of the given shape and populate it with\n",
    "    random samples from a uniform distribution\n",
    "    over ``[0, 1)``.\n",
    "    \n",
    "    Parameters\n",
    "    ----------\n",
    "    d0, d1, ..., dn : int, optional\n",
    "        The dimensions of the returned array, must be non-negative.\n",
    "        If no argument is given a single Python float is returned.\n",
    "    \n",
    "    Returns\n",
    "    -------\n",
    "    out : ndarray, shape ``(d0, d1, ..., dn)``\n",
    "        Random values.\n",
    "    \n",
    "    See Also\n",
    "    --------\n",
    "    random\n",
    "    \n",
    "    Examples\n",
    "    --------\n",
    "    >>> np.random.rand(3,2)\n",
    "    array([[ 0.14022471,  0.96360618],  #random\n",
    "           [ 0.37601032,  0.25528411],  #random\n",
    "           [ 0.49313049,  0.94909878]]) #random\n",
    "\n"
   ]
  },
  {
   "cell_type": "code",
   "execution_count": 7,
   "metadata": {},
   "outputs": [
    {
     "data": {
      "text/plain": [
       "array([0.32336474])"
      ]
     },
     "execution_count": 7,
     "metadata": {},
     "output_type": "execute_result"
    }
   ],
   "source": [
    "np.random.rand(1)"
   ]
  },
  {
   "cell_type": "code",
   "execution_count": 8,
   "metadata": {},
   "outputs": [
    {
     "data": {
      "text/plain": [
       "array([0.83990532, 0.46996899, 0.61525044])"
      ]
     },
     "execution_count": 8,
     "metadata": {},
     "output_type": "execute_result"
    }
   ],
   "source": [
    "np.random.rand(3)"
   ]
  },
  {
   "cell_type": "code",
   "execution_count": 5,
   "metadata": {},
   "outputs": [
    {
     "data": {
      "text/plain": [
       "array([[0.23137022, 0.01082593, 0.4119278 , 0.34462132, 0.08374999],\n",
       "       [0.86865065, 0.3678941 , 0.91237733, 0.45844464, 0.38016021],\n",
       "       [0.82855306, 0.46986619, 0.79242653, 0.56623165, 0.55598959],\n",
       "       [0.70577858, 0.17920313, 0.66717735, 0.3917378 , 0.55423473]])"
      ]
     },
     "execution_count": 5,
     "metadata": {},
     "output_type": "execute_result"
    }
   ],
   "source": [
    "np.random.rand(4,5)"
   ]
  },
  {
   "cell_type": "markdown",
   "metadata": {},
   "source": [
    "## Standard normal distribution\n",
    "\n",
    "The standard normal distribution is a special kind of distribution that statisticians and mathematicians often use to understand how data points in a certain situation are spread out. It's like if you measured how tall all the students in your school are, then plotted these heights on a graph to see which heights are most common, which are less common, and so on.\n",
    "\n",
    "Here’s a simpler way to think about it: Imagine you have a large number of coins and you flip all of them. Most of the time, you'll get about half heads and half tails, right? But sometimes, you might get a few more heads or a few more tails. If you plot these results on a graph after doing many, many coin flips, you’d get a shape that looks like the standard normal distribution.\n",
    "\n",
    "The standard normal distribution has a few special features:\n",
    "\n",
    "1. **Shape**: It looks like a bell, so it's often called the \"bell curve.\" The middle of the bell is the average result (like getting half heads and half tails), and it's the most likely outcome.\n",
    "2. **Mean (average)**: In a standard normal distribution, the mean is always 0. This is like adjusting our scale so that the average result (the center of the bell) is at zero on the graph.\n",
    "3. **Standard Deviation**: This tells us how spread out the data is around the mean. In a standard normal distribution, the standard deviation is always 1. This means that most of the data (about 68% of it) falls within one standard deviation from the mean (between -1 and 1 on our graph).\n",
    "\n",
    "**Example**: Suppose we measure the intelligence of a very large group of people using a test designed so that the average score is 100 and the standard deviation is 15 (this is how IQ scores are often measured, but not using a standard normal distribution). To convert these IQ scores into a standard normal distribution, we would adjust the scores so the average comes out to 0 and the spread (standard deviation) is 1. This lets us compare scores in a consistent way, regardless of the original scale.\n",
    "\n",
    "Let's plot this distribution so you can see what it looks like:\n",
    "\n",
    "\n",
    "![standard normal distribution](graph.png \"Standard normal distribution\")\n",
    "\n",
    "In the graph:\n",
    "\n",
    "The red dashed line at the center represents the mean of 0.\n",
    "Annotations indicate the mean (0) and the location of one standard deviation (1) from the mean.\n",
    "The green bars represent the frequency of different adjusted IQ scores within the distribution.\n",
    "This graph should give you a clearer idea of how the adjustment of IQ scores to a standard normal distribution would look visually.\n"
   ]
  },
  {
   "cell_type": "code",
   "execution_count": 10,
   "metadata": {},
   "outputs": [
    {
     "data": {
      "text/plain": [
       "array([ 0.52614659, -0.2772802 ,  0.92351077])"
      ]
     },
     "execution_count": 10,
     "metadata": {},
     "output_type": "execute_result"
    }
   ],
   "source": [
    "np.random.randn(3)"
   ]
  },
  {
   "cell_type": "code",
   "execution_count": 11,
   "metadata": {},
   "outputs": [
    {
     "data": {
      "text/plain": [
       "array([[-1.07821824, -0.75509104, -0.10124877, -1.26039079, -0.14156915],\n",
       "       [ 0.3009643 ,  0.47944161,  1.92264584, -0.08083027, -1.27641372],\n",
       "       [ 0.72931684,  1.14917836, -0.124508  ,  0.03638239, -0.92889889],\n",
       "       [-0.80340293, -0.86726571,  0.20726728, -0.28095325, -0.27599026]])"
      ]
     },
     "execution_count": 11,
     "metadata": {},
     "output_type": "execute_result"
    }
   ],
   "source": [
    "np.random.randn(4,5)"
   ]
  },
  {
   "cell_type": "code",
   "execution_count": 13,
   "metadata": {},
   "outputs": [
    {
     "data": {
      "text/plain": [
       "array([96, 55, 48, 89, 25])"
      ]
     },
     "execution_count": 13,
     "metadata": {},
     "output_type": "execute_result"
    }
   ],
   "source": [
    "np.random.randint(0,100,5)"
   ]
  },
  {
   "cell_type": "code",
   "execution_count": 14,
   "metadata": {},
   "outputs": [
    {
     "data": {
      "text/plain": [
       "array([[ 9, 67, 46, 84, 58],\n",
       "       [81, 60, 88, 60, 73],\n",
       "       [74, 44, 45, 81, 65]])"
      ]
     },
     "execution_count": 14,
     "metadata": {},
     "output_type": "execute_result"
    }
   ],
   "source": [
    "np.random.randint(0,100,(3,5))"
   ]
  },
  {
   "cell_type": "code",
   "execution_count": 15,
   "metadata": {},
   "outputs": [
    {
     "data": {
      "text/plain": [
       "array([0.37454012, 0.95071431, 0.73199394, 0.59865848])"
      ]
     },
     "execution_count": 15,
     "metadata": {},
     "output_type": "execute_result"
    }
   ],
   "source": [
    "np.random.seed(42)\n",
    "np.random.rand(4)"
   ]
  },
  {
   "cell_type": "code",
   "execution_count": 17,
   "metadata": {},
   "outputs": [
    {
     "data": {
      "text/plain": [
       "array([0.51639863, 0.57066759, 0.02847423, 0.17152166])"
      ]
     },
     "execution_count": 17,
     "metadata": {},
     "output_type": "execute_result"
    }
   ],
   "source": [
    "np.random.seed(101)\n",
    "np.random.rand(4)"
   ]
  },
  {
   "cell_type": "code",
   "execution_count": 24,
   "metadata": {},
   "outputs": [
    {
     "data": {
      "text/plain": [
       "array([ 0,  1,  2,  3,  4,  5,  6,  7,  8,  9, 10, 11, 12, 13, 14, 15, 16,\n",
       "       17, 18, 19, 20, 21, 22, 23, 24])"
      ]
     },
     "execution_count": 24,
     "metadata": {},
     "output_type": "execute_result"
    }
   ],
   "source": [
    "arr = np.arange(0,25)\n",
    "arr"
   ]
  },
  {
   "cell_type": "code",
   "execution_count": 22,
   "metadata": {},
   "outputs": [
    {
     "data": {
      "text/plain": [
       "array([[ 0,  1,  2,  3,  4],\n",
       "       [ 5,  6,  7,  8,  9],\n",
       "       [10, 11, 12, 13, 14],\n",
       "       [15, 16, 17, 18, 19],\n",
       "       [20, 21, 22, 23, 24]])"
      ]
     },
     "execution_count": 22,
     "metadata": {},
     "output_type": "execute_result"
    }
   ],
   "source": [
    "arr.reshape(5,5)"
   ]
  },
  {
   "cell_type": "code",
   "execution_count": 25,
   "metadata": {},
   "outputs": [
    {
     "ename": "ValueError",
     "evalue": "cannot reshape array of size 25 into shape (4,5)",
     "output_type": "error",
     "traceback": [
      "\u001b[0;31m---------------------------------------------------------------------------\u001b[0m",
      "\u001b[0;31mValueError\u001b[0m                                Traceback (most recent call last)",
      "Cell \u001b[0;32mIn[25], line 1\u001b[0m\n\u001b[0;32m----> 1\u001b[0m \u001b[43marr\u001b[49m\u001b[38;5;241;43m.\u001b[39;49m\u001b[43mreshape\u001b[49m\u001b[43m(\u001b[49m\u001b[38;5;241;43m4\u001b[39;49m\u001b[43m,\u001b[49m\u001b[38;5;241;43m5\u001b[39;49m\u001b[43m)\u001b[49m\n",
      "\u001b[0;31mValueError\u001b[0m: cannot reshape array of size 25 into shape (4,5)"
     ]
    }
   ],
   "source": [
    "arr.reshape(4,5)"
   ]
  },
  {
   "cell_type": "code",
   "execution_count": 27,
   "metadata": {},
   "outputs": [
    {
     "data": {
      "text/plain": [
       "array([12, 93, 40, 49, 83,  8, 29, 59, 34, 44])"
      ]
     },
     "execution_count": 27,
     "metadata": {},
     "output_type": "execute_result"
    }
   ],
   "source": [
    "randarr = np.random.randint(0,101,10)\n",
    "randarr"
   ]
  },
  {
   "cell_type": "code",
   "execution_count": 29,
   "metadata": {},
   "outputs": [
    {
     "data": {
      "text/plain": [
       "93"
      ]
     },
     "execution_count": 29,
     "metadata": {},
     "output_type": "execute_result"
    }
   ],
   "source": [
    "randarr.max()"
   ]
  },
  {
   "cell_type": "code",
   "execution_count": 30,
   "metadata": {},
   "outputs": [
    {
     "data": {
      "text/plain": [
       "8"
      ]
     },
     "execution_count": 30,
     "metadata": {},
     "output_type": "execute_result"
    }
   ],
   "source": [
    "randarr.min()"
   ]
  },
  {
   "cell_type": "code",
   "execution_count": 31,
   "metadata": {},
   "outputs": [
    {
     "data": {
      "text/plain": [
       "1"
      ]
     },
     "execution_count": 31,
     "metadata": {},
     "output_type": "execute_result"
    }
   ],
   "source": [
    "randarr.argmax()"
   ]
  },
  {
   "cell_type": "code",
   "execution_count": 32,
   "metadata": {},
   "outputs": [
    {
     "data": {
      "text/plain": [
       "5"
      ]
     },
     "execution_count": 32,
     "metadata": {},
     "output_type": "execute_result"
    }
   ],
   "source": [
    "randarr.argmin()"
   ]
  },
  {
   "cell_type": "code",
   "execution_count": 33,
   "metadata": {},
   "outputs": [
    {
     "data": {
      "text/plain": [
       "dtype('int64')"
      ]
     },
     "execution_count": 33,
     "metadata": {},
     "output_type": "execute_result"
    }
   ],
   "source": [
    "randarr.dtype"
   ]
  },
  {
   "cell_type": "code",
   "execution_count": 34,
   "metadata": {},
   "outputs": [
    {
     "data": {
      "text/plain": [
       "(25,)"
      ]
     },
     "execution_count": 34,
     "metadata": {},
     "output_type": "execute_result"
    }
   ],
   "source": [
    "arr.shape"
   ]
  },
  {
   "cell_type": "code",
   "execution_count": 38,
   "metadata": {},
   "outputs": [
    {
     "data": {
      "text/plain": [
       "array([[ 0,  1,  2,  3,  4],\n",
       "       [ 5,  6,  7,  8,  9],\n",
       "       [10, 11, 12, 13, 14],\n",
       "       [15, 16, 17, 18, 19],\n",
       "       [20, 21, 22, 23, 24]])"
      ]
     },
     "execution_count": 38,
     "metadata": {},
     "output_type": "execute_result"
    }
   ],
   "source": [
    "arr = arr.reshape(5,5)\n",
    "arr"
   ]
  },
  {
   "cell_type": "code",
   "execution_count": 39,
   "metadata": {},
   "outputs": [
    {
     "data": {
      "text/plain": [
       "(5, 5)"
      ]
     },
     "execution_count": 39,
     "metadata": {},
     "output_type": "execute_result"
    }
   ],
   "source": [
    "arr.shape"
   ]
  },
  {
   "cell_type": "code",
   "execution_count": 40,
   "metadata": {},
   "outputs": [
    {
     "data": {
      "text/plain": [
       "array([[ 0],\n",
       "       [ 1],\n",
       "       [ 2],\n",
       "       [ 3],\n",
       "       [ 4],\n",
       "       [ 5],\n",
       "       [ 6],\n",
       "       [ 7],\n",
       "       [ 8],\n",
       "       [ 9],\n",
       "       [10],\n",
       "       [11],\n",
       "       [12],\n",
       "       [13],\n",
       "       [14],\n",
       "       [15],\n",
       "       [16],\n",
       "       [17],\n",
       "       [18],\n",
       "       [19],\n",
       "       [20],\n",
       "       [21],\n",
       "       [22],\n",
       "       [23],\n",
       "       [24]])"
      ]
     },
     "execution_count": 40,
     "metadata": {},
     "output_type": "execute_result"
    }
   ],
   "source": [
    "arr.reshape(25,1)"
   ]
  },
  {
   "cell_type": "code",
   "execution_count": 41,
   "metadata": {},
   "outputs": [
    {
     "data": {
      "text/plain": [
       "array([[ 0,  1,  2,  3,  4,  5,  6,  7,  8,  9, 10, 11, 12, 13, 14, 15,\n",
       "        16, 17, 18, 19, 20, 21, 22, 23, 24]])"
      ]
     },
     "execution_count": 41,
     "metadata": {},
     "output_type": "execute_result"
    }
   ],
   "source": [
    "arr.reshape(1,25)"
   ]
  },
  {
   "cell_type": "code",
   "execution_count": null,
   "metadata": {},
   "outputs": [],
   "source": []
  }
 ],
 "metadata": {
  "kernelspec": {
   "display_name": "venv",
   "language": "python",
   "name": "python3"
  },
  "language_info": {
   "codemirror_mode": {
    "name": "ipython",
    "version": 3
   },
   "file_extension": ".py",
   "mimetype": "text/x-python",
   "name": "python",
   "nbconvert_exporter": "python",
   "pygments_lexer": "ipython3",
   "version": "3.11.2"
  }
 },
 "nbformat": 4,
 "nbformat_minor": 2
}
