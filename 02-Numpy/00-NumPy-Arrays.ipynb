{
 "cells": [
  {
   "cell_type": "markdown",
   "metadata": {},
   "source": [
    "<a href='https://www.sma.im'><img src='../banner-sma.png'/></a>\n",
    "___\n",
    "<center><em>Learn with SMA</em></center>"
   ]
  },
  {
   "cell_type": "code",
   "execution_count": 2,
   "metadata": {},
   "outputs": [],
   "source": [
    "import numpy as np\n"
   ]
  },
  {
   "cell_type": "code",
   "execution_count": 3,
   "metadata": {},
   "outputs": [],
   "source": [
    "mylist = [1, 2, 3, 4, 5]"
   ]
  },
  {
   "cell_type": "code",
   "execution_count": 4,
   "metadata": {},
   "outputs": [
    {
     "data": {
      "text/plain": [
       "list"
      ]
     },
     "execution_count": 4,
     "metadata": {},
     "output_type": "execute_result"
    }
   ],
   "source": [
    "type(mylist)"
   ]
  },
  {
   "cell_type": "code",
   "execution_count": 6,
   "metadata": {},
   "outputs": [],
   "source": [
    "mylist = np.array(mylist)"
   ]
  },
  {
   "cell_type": "code",
   "execution_count": 7,
   "metadata": {},
   "outputs": [
    {
     "data": {
      "text/plain": [
       "numpy.ndarray"
      ]
     },
     "execution_count": 7,
     "metadata": {},
     "output_type": "execute_result"
    }
   ],
   "source": [
    "type(mylist)"
   ]
  },
  {
   "cell_type": "code",
   "execution_count": 8,
   "metadata": {},
   "outputs": [],
   "source": [
    "my_matrix = [[1, 2, 3], [4, 5, 6], [7, 8, 9]]"
   ]
  },
  {
   "cell_type": "code",
   "execution_count": 9,
   "metadata": {},
   "outputs": [
    {
     "data": {
      "text/plain": [
       "array([[1, 2, 3],\n",
       "       [4, 5, 6],\n",
       "       [7, 8, 9]])"
      ]
     },
     "execution_count": 9,
     "metadata": {},
     "output_type": "execute_result"
    }
   ],
   "source": [
    "np.array(my_matrix)"
   ]
  },
  {
   "cell_type": "code",
   "execution_count": 12,
   "metadata": {},
   "outputs": [
    {
     "data": {
      "text/plain": [
       "array([0, 3, 6, 9])"
      ]
     },
     "execution_count": 12,
     "metadata": {},
     "output_type": "execute_result"
    }
   ],
   "source": [
    "np.arange(0,10,3)"
   ]
  },
  {
   "cell_type": "code",
   "execution_count": 13,
   "metadata": {},
   "outputs": [
    {
     "data": {
      "text/plain": [
       "array([0., 0., 0., 0., 0.])"
      ]
     },
     "execution_count": 13,
     "metadata": {},
     "output_type": "execute_result"
    }
   ],
   "source": [
    "np.zeros(5)"
   ]
  },
  {
   "cell_type": "code",
   "execution_count": 14,
   "metadata": {},
   "outputs": [
    {
     "data": {
      "text/plain": [
       "array([[0., 0., 0., 0., 0.],\n",
       "       [0., 0., 0., 0., 0.],\n",
       "       [0., 0., 0., 0., 0.],\n",
       "       [0., 0., 0., 0., 0.],\n",
       "       [0., 0., 0., 0., 0.]])"
      ]
     },
     "execution_count": 14,
     "metadata": {},
     "output_type": "execute_result"
    }
   ],
   "source": [
    "np.zeros((5,5))"
   ]
  },
  {
   "cell_type": "code",
   "execution_count": 15,
   "metadata": {},
   "outputs": [
    {
     "data": {
      "text/plain": [
       "array([[1., 1., 1., 1.],\n",
       "       [1., 1., 1., 1.],\n",
       "       [1., 1., 1., 1.]])"
      ]
     },
     "execution_count": 15,
     "metadata": {},
     "output_type": "execute_result"
    }
   ],
   "source": [
    "np.ones((3,4))"
   ]
  },
  {
   "cell_type": "markdown",
   "metadata": {},
   "source": [
    "_ArrayFunctionDispatcher in module numpy:\n",
    "\n",
    "linspace(start, stop, num=50, endpoint=True, retstep=False, dtype=None, axis=0)\n",
    "    Return evenly spaced numbers over a specified interval.\n",
    "    \n",
    "    Returns `num` evenly spaced samples, calculated over the\n",
    "    interval [`start`, `stop`].\n",
    "    \n",
    "    The endpoint of the interval can optionally be excluded.\n",
    "    \n",
    "    .. versionchanged:: 1.16.0\n",
    "        Non-scalar `start` and `stop` are now supported.\n",
    "    \n",
    "    .. versionchanged:: 1.20.0\n",
    "        Values are rounded towards ``-inf`` instead of ``0`` when an\n",
    "        integer ``dtype`` is specified. The old behavior can\n",
    "        still be obtained with ``np.linspace(start, stop, num).astype(int)``\n",
    "    \n",
    "    Parameters\n",
    "    ----------\n",
    "    start : array_like\n",
    "        The starting value of the sequence.\n",
    "    stop : array_like\n",
    "        The end value of the sequence, unless `endpoint` is set to False.\n",
    "        In that case, the sequence consists of all but the last of ``num + 1``\n",
    "        evenly spaced samples, so that `stop` is excluded.  Note that the step\n",
    "        size changes when `endpoint` is False.\n",
    "    num : int, optional\n",
    "        Number of samples to generate. Default is 50. Must be non-negative.\n",
    "    endpoint : bool, optional\n",
    "        If True, `stop` is the last sample. Otherwise, it is not included.\n",
    "        Default is True.\n",
    "    retstep : bool, optional\n",
    "        If True, return (`samples`, `step`), where `step` is the spacing\n",
    "        between samples.\n",
    "    dtype : dtype, optional\n",
    "        The type of the output array.  If `dtype` is not given, the data type\n",
    "        is inferred from `start` and `stop`. The inferred dtype will never be\n",
    "        an integer; `float` is chosen even if the arguments would produce an\n",
    "        array of integers.\n",
    "    \n",
    "        .. versionadded:: 1.9.0\n",
    "    \n",
    "    axis : int, optional\n",
    "        The axis in the result to store the samples.  Relevant only if start\n",
    "        or stop are array-like.  By default (0), the samples will be along a\n",
    "        new axis inserted at the beginning. Use -1 to get an axis at the end.\n",
    "    \n",
    "        .. versionadded:: 1.16.0\n",
    "    \n",
    "    Returns\n",
    "    -------\n",
    "    samples : ndarray\n",
    "        There are `num` equally spaced samples in the closed interval\n",
    "        ``[start, stop]`` or the half-open interval ``[start, stop)``\n",
    "        (depending on whether `endpoint` is True or False).\n",
    "    step : float, optional\n",
    "        Only returned if `retstep` is True\n",
    "    \n",
    "        Size of spacing between samples.\n",
    "    \n",
    "    \n",
    "    See Also\n",
    "    --------\n",
    "    arange : Similar to `linspace`, but uses a step size (instead of the\n",
    "             number of samples).\n",
    "    geomspace : Similar to `linspace`, but with numbers spaced evenly on a log\n",
    "                scale (a geometric progression).\n",
    "    logspace : Similar to `geomspace`, but with the end points specified as\n",
    "               logarithms.\n",
    "    :ref:`how-to-partition`\n",
    "    \n",
    "    Examples\n",
    "    --------\n",
    "    >>> np.linspace(2.0, 3.0, num=5)\n",
    "    array([2.  , 2.25, 2.5 , 2.75, 3.  ])\n",
    "    >>> np.linspace(2.0, 3.0, num=5, endpoint=False)\n",
    "    array([2. ,  2.2,  2.4,  2.6,  2.8])\n",
    "    >>> np.linspace(2.0, 3.0, num=5, retstep=True)\n",
    "    (array([2.  ,  2.25,  2.5 ,  2.75,  3.  ]), 0.25)\n",
    "    \n",
    "    Graphical illustration:\n",
    "    \n",
    "    >>> import matplotlib.pyplot as plt\n",
    "    >>> N = 8\n",
    "    >>> y = np.zeros(N)\n",
    "    >>> x1 = np.linspace(0, 10, N, endpoint=True)\n",
    "    >>> x2 = np.linspace(0, 10, N, endpoint=False)\n",
    "    >>> plt.plot(x1, y, 'o')\n",
    "    [<matplotlib.lines.Line2D object at 0x...>]\n",
    "    >>> plt.plot(x2, y + 0.5, 'o')\n",
    "    [<matplotlib.lines.Line2D object at 0x...>]\n",
    "    >>> plt.ylim([-0.5, 1])\n",
    "    (-0.5, 1)\n",
    "    >>> plt.show()\n",
    "\n"
   ]
  },
  {
   "cell_type": "markdown",
   "metadata": {},
   "source": []
  },
  {
   "cell_type": "code",
   "execution_count": 22,
   "metadata": {},
   "outputs": [
    {
     "data": {
      "text/plain": [
       "array([ 0. ,  0.5,  1. ,  1.5,  2. ,  2.5,  3. ,  3.5,  4. ,  4.5,  5. ,\n",
       "        5.5,  6. ,  6.5,  7. ,  7.5,  8. ,  8.5,  9. ,  9.5, 10. ])"
      ]
     },
     "execution_count": 22,
     "metadata": {},
     "output_type": "execute_result"
    }
   ],
   "source": [
    "np.linspace(0,10,3)"
   ]
  },
  {
   "cell_type": "code",
   "execution_count": 23,
   "metadata": {},
   "outputs": [
    {
     "data": {
      "text/plain": [
       "array([ 0. ,  0.5,  1. ,  1.5,  2. ,  2.5,  3. ,  3.5,  4. ,  4.5,  5. ,\n",
       "        5.5,  6. ,  6.5,  7. ,  7.5,  8. ,  8.5,  9. ,  9.5, 10. ])"
      ]
     },
     "execution_count": 23,
     "metadata": {},
     "output_type": "execute_result"
    }
   ],
   "source": [
    "np.linspace(0,10,21)"
   ]
  },
  {
   "cell_type": "code",
   "execution_count": 29,
   "metadata": {},
   "outputs": [
    {
     "data": {
      "text/plain": [
       "21"
      ]
     },
     "execution_count": 29,
     "metadata": {},
     "output_type": "execute_result"
    }
   ],
   "source": [
    "len(np.linspace(0,10,21))"
   ]
  },
  {
   "cell_type": "markdown",
   "metadata": {},
   "source": [
    "An **identity matrix** is a special square matrix that acts like the number 1 in multiplication for matrices. Just like multiplying any number by 1 doesn't change the value of the number, multiplying any matrix by an identity matrix leaves the original matrix unchanged.\n",
    "\n",
    "Here's a more detailed breakdown of identity matrices:\n",
    "\n",
    "* **Square Matrix:** An identity matrix is always square, meaning it has the same number of rows and columns.\n",
    "* **Ones on the Diagonal:**  The elements on the main diagonal, running from the top left corner to the bottom right corner, are all 1s.\n",
    "* **Zeros Elsewhere:** All the other elements outside the diagonal are 0s.\n",
    "* **Notation:**  An identity matrix of size n (where n is the number of rows and columns) is denoted by In or simply I.\n",
    "\n",
    "Here are some examples of identity matrices:\n",
    "\n",
    "* A 2x2 identity matrix:\n",
    "  ```\n",
    "  [1 0]\n",
    "  [0 1]\n",
    "  ```\n",
    "* A 3x3 identity matrix:\n",
    "  ```\n",
    "  [1 0 0]\n",
    "  [0 1 0]\n",
    "  [0 0 1]\n",
    "  ```\n",
    "\n",
    "If you multiply any matrix A by the corresponding identity matrix In, the result will be A itself. This property makes identity matrices essential for various operations in linear algebra."
   ]
  },
  {
   "cell_type": "code",
   "execution_count": 30,
   "metadata": {},
   "outputs": [
    {
     "data": {
      "text/plain": [
       "array([[1., 0., 0., 0., 0.],\n",
       "       [0., 1., 0., 0., 0.],\n",
       "       [0., 0., 1., 0., 0.],\n",
       "       [0., 0., 0., 1., 0.],\n",
       "       [0., 0., 0., 0., 1.]])"
      ]
     },
     "execution_count": 30,
     "metadata": {},
     "output_type": "execute_result"
    }
   ],
   "source": [
    "np.eye(5)"
   ]
  },
  {
   "cell_type": "code",
   "execution_count": 36,
   "metadata": {},
   "outputs": [
    {
     "data": {
      "text/plain": [
       "array([0. , 0.1, 0.2, 0.3, 0.4, 0.5, 0.6, 0.7, 0.8, 0.9, 1. , 1.1, 1.2,\n",
       "       1.3, 1.4, 1.5, 1.6, 1.7, 1.8, 1.9, 2. , 2.1, 2.2, 2.3, 2.4, 2.5,\n",
       "       2.6, 2.7, 2.8, 2.9, 3. , 3.1, 3.2, 3.3, 3.4, 3.5, 3.6, 3.7, 3.8,\n",
       "       3.9, 4. , 4.1, 4.2, 4.3, 4.4, 4.5, 4.6, 4.7, 4.8, 4.9, 5. , 5.1,\n",
       "       5.2, 5.3, 5.4, 5.5, 5.6, 5.7, 5.8, 5.9, 6. , 6.1, 6.2, 6.3, 6.4,\n",
       "       6.5, 6.6, 6.7, 6.8, 6.9, 7. , 7.1, 7.2, 7.3, 7.4, 7.5, 7.6, 7.7,\n",
       "       7.8, 7.9, 8. , 8.1, 8.2, 8.3, 8.4, 8.5, 8.6, 8.7, 8.8, 8.9, 9. ,\n",
       "       9.1, 9.2, 9.3, 9.4, 9.5, 9.6, 9.7, 9.8, 9.9])"
      ]
     },
     "execution_count": 36,
     "metadata": {},
     "output_type": "execute_result"
    }
   ],
   "source": [
    "np.arange(0,10,0.1)"
   ]
  },
  {
   "cell_type": "code",
   "execution_count": null,
   "metadata": {},
   "outputs": [],
   "source": []
  }
 ],
 "metadata": {
  "kernelspec": {
   "display_name": "venv",
   "language": "python",
   "name": "python3"
  },
  "language_info": {
   "codemirror_mode": {
    "name": "ipython",
    "version": 3
   },
   "file_extension": ".py",
   "mimetype": "text/x-python",
   "name": "python",
   "nbconvert_exporter": "python",
   "pygments_lexer": "ipython3",
   "version": "3.11.2"
  }
 },
 "nbformat": 4,
 "nbformat_minor": 2
}
